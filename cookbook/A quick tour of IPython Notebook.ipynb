{
 "metadata": {
  "name": ""
 },
 "nbformat": 3,
 "nbformat_minor": 0,
 "worksheets": [
  {
   "cells": [
    {
     "cell_type": "markdown",
     "metadata": {},
     "source": [
      "# A quick tour of IPython Notebook"
     ]
    },
    {
     "cell_type": "markdown",
     "metadata": {},
     "source": [
      "This tour will work a little better in interactive mode, so it'll be better if you get IPython notebook installed and running. You can start it from a terminal by running\n",
      "\n",
      "`ipython notebook`"
     ]
    },
    {
     "cell_type": "markdown",
     "metadata": {},
     "source": [
      "First, we need to explain how to run cells. Try to run the cell below!"
     ]
    },
    {
     "cell_type": "code",
     "collapsed": false,
     "input": [
      "import pandas as pd\n",
      "\n",
      "print \"Hi! This is a cell. Press the \u25b6 button above to run it\""
     ],
     "language": "python",
     "metadata": {},
     "outputs": []
    },
    {
     "cell_type": "markdown",
     "metadata": {},
     "source": [
      "You can also run a cell with Ctrl+Enter or Shift+Enter. Experiment a bit with that."
     ]
    },
    {
     "cell_type": "markdown",
     "metadata": {},
     "source": [
      "One of the most useful things about IPython notebook is its tab completion. \n",
      "\n",
      "Try this: click just after read_csv( in the cell below and press tab 4 times, slowly"
     ]
    },
    {
     "cell_type": "code",
     "collapsed": false,
     "input": [
      "pd.read_csv("
     ],
     "language": "python",
     "metadata": {},
     "outputs": []
    },
    {
     "cell_type": "markdown",
     "metadata": {},
     "source": [
      "After the first time, you should see this:\n",
      "<div align=\"center\">\n",
      "<img src=\"files/images/tab-once.png\" width=\"75%\">\n",
      "</div>\n",
      "\n",
      "After the second time:\n",
      "<div align=\"center\">\n",
      "<img src=\"files/images/tab-twice.png\" width=\"75%\">\n",
      "</div>\n",
      "\n",
      "After the fourth time, a big help box should pop up at the bottom of the screen, with the full documentation for the `read_csv` function:\n",
      "<div align=\"center\">\n",
      "<img src=\"files/images/tab-4-times.png\" width=\"90%\">\n",
      "</div>"
     ]
    },
    {
     "cell_type": "markdown",
     "metadata": {},
     "source": [
      "I find this amazingly useful. I think of this as \"the more confused I am, the more times I should press tab\". Nothing bad will happen if you press tab 12 times.\n",
      "\n",
      "Okay, let's try tab completion for function names!"
     ]
    },
    {
     "cell_type": "code",
     "collapsed": false,
     "input": [
      "pd.r"
     ],
     "language": "python",
     "metadata": {},
     "outputs": []
    },
    {
     "cell_type": "markdown",
     "metadata": {},
     "source": [
      "You should see this:\n",
      "\n",
      "<div align=\"center\">\n",
      "<img src=\"files/images/function-completion.png\" width=\"30%\">\n",
      "</div>"
     ]
    },
    {
     "cell_type": "markdown",
     "metadata": {},
     "source": [
      "# Writing code"
     ]
    },
    {
     "cell_type": "markdown",
     "metadata": {},
     "source": [
      "Writing code in the notebook is pretty normal."
     ]
    },
    {
     "cell_type": "code",
     "collapsed": false,
     "input": [
      "def print_10_nums():\n",
      "    for i in range(10):\n",
      "        print i,"
     ],
     "language": "python",
     "metadata": {},
     "outputs": [],
     "prompt_number": 1
    },
    {
     "cell_type": "code",
     "collapsed": false,
     "input": [
      "print_10_nums()"
     ],
     "language": "python",
     "metadata": {},
     "outputs": [
      {
       "output_type": "stream",
       "stream": "stdout",
       "text": [
        "0 1 2 3 4 5 6 7 8 9\n"
       ]
      }
     ],
     "prompt_number": 2
    },
    {
     "cell_type": "markdown",
     "metadata": {},
     "source": [
      "# Saving"
     ]
    },
    {
     "cell_type": "markdown",
     "metadata": {},
     "source": [
      "As of the latest stable version, the notebook autosaves. You should use the latest stable version. Really."
     ]
    },
    {
     "cell_type": "markdown",
     "metadata": {},
     "source": [
      "# Magic functions"
     ]
    },
    {
     "cell_type": "markdown",
     "metadata": {},
     "source": [
      "IPython has all kinds of magic functions. Here's an example of comparing `sum()` with a list comprehension to a generator comprehension using the `%time` magic."
     ]
    },
    {
     "cell_type": "code",
     "collapsed": false,
     "input": [
      "%time sum([x for x in range(100000)])"
     ],
     "language": "python",
     "metadata": {},
     "outputs": [
      {
       "output_type": "stream",
       "stream": "stdout",
       "text": [
        "CPU times: user 24 ms, sys: 4 ms, total: 28 ms\n",
        "Wall time: 27.4 ms\n"
       ]
      },
      {
       "metadata": {},
       "output_type": "pyout",
       "prompt_number": 3,
       "text": [
        "4999950000"
       ]
      }
     ],
     "prompt_number": 3
    },
    {
     "cell_type": "code",
     "collapsed": false,
     "input": [
      "%time sum(x for x in range(100000))"
     ],
     "language": "python",
     "metadata": {},
     "outputs": [
      {
       "output_type": "stream",
       "stream": "stdout",
       "text": [
        "CPU times: user 8 ms, sys: 0 ns, total: 8 ms\n",
        "Wall time: 8.11 ms\n"
       ]
      },
      {
       "metadata": {},
       "output_type": "pyout",
       "prompt_number": 4,
       "text": [
        "4999950000"
       ]
      }
     ],
     "prompt_number": 4
    },
    {
     "cell_type": "markdown",
     "metadata": {},
     "source": [
      "The magics I use most are `%time` and `%prun` for profiling. You can run `%magic` to get a list of all of them, and `%quickref` for a reference sheet."
     ]
    },
    {
     "cell_type": "code",
     "collapsed": false,
     "input": [
      "%quickref"
     ],
     "language": "python",
     "metadata": {},
     "outputs": [],
     "prompt_number": 5
    },
    {
     "cell_type": "markdown",
     "metadata": {},
     "source": [
      "You can also do nutty things like run Perl code in the notebook with cell magics. This is especially cool for things like Cython code, where you can try out Cython really fast with the `%%cython` magic (you'll need to install it)."
     ]
    },
    {
     "cell_type": "code",
     "collapsed": false,
     "input": [
      "%%perl\n",
      "\n",
      "$_ = \"whoa, python!\";\n",
      "s/python/perl/;\n",
      "print"
     ],
     "language": "python",
     "metadata": {},
     "outputs": [
      {
       "output_type": "stream",
       "stream": "stdout",
       "text": [
        "whoa, perl!"
       ]
      }
     ],
     "prompt_number": 6
    },
    {
     "cell_type": "markdown",
     "metadata": {},
     "source": [
      "That's it for now!"
     ]
    },
    {
     "cell_type": "markdown",
     "metadata": {},
     "source": [
      "<style>\n",
      "    @font-face {\n",
      "        font-family: \"Computer Modern\";\n",
      "        src: url('http://mirrors.ctan.org/fonts/cm-unicode/fonts/otf/cmunss.otf');\n",
      "    }\n",
      "    div.cell{\n",
      "        width:800px;\n",
      "        margin-left:16% !important;\n",
      "        margin-right:auto;\n",
      "    }\n",
      "    h1 {\n",
      "        font-family: Helvetica, serif;\n",
      "    }\n",
      "    h4{\n",
      "        margin-top:12px;\n",
      "        margin-bottom: 3px;\n",
      "       }\n",
      "    div.text_cell_render{\n",
      "        font-family: Computer Modern, \"Helvetica Neue\", Arial, Helvetica, Geneva, sans-serif;\n",
      "        line-height: 145%;\n",
      "        font-size: 130%;\n",
      "        width:800px;\n",
      "        margin-left:auto;\n",
      "        margin-right:auto;\n",
      "    }\n",
      "    .CodeMirror{\n",
      "            font-family: \"Source Code Pro\", source-code-pro,Consolas, monospace;\n",
      "    }\n",
      "    .text_cell_render h5 {\n",
      "        font-weight: 300;\n",
      "        font-size: 22pt;\n",
      "        color: #4057A1;\n",
      "        font-style: italic;\n",
      "        margin-bottom: .5em;\n",
      "        margin-top: 0.5em;\n",
      "        display: block;\n",
      "    }\n",
      "    \n",
      "    .warning{\n",
      "        color: rgb( 240, 20, 20 )\n",
      "        }  "
     ]
    }
   ],
   "metadata": {}
  }
 ]
}